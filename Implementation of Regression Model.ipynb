{
 "cells": [
  {
   "cell_type": "markdown",
   "metadata": {},
   "source": [
    "#  Linear Regression\n",
    "\n",
    "## 1 load the dataset and divide into features and target\n",
    "Pandas Dataframe is two-dimensional, tabular data structure with column/row labels"
   ]
  },
  {
   "cell_type": "code",
   "execution_count": 26,
   "metadata": {},
   "outputs": [
    {
     "data": {
      "text/html": [
       "<div>\n",
       "<style scoped>\n",
       "    .dataframe tbody tr th:only-of-type {\n",
       "        vertical-align: middle;\n",
       "    }\n",
       "\n",
       "    .dataframe tbody tr th {\n",
       "        vertical-align: top;\n",
       "    }\n",
       "\n",
       "    .dataframe thead th {\n",
       "        text-align: right;\n",
       "    }\n",
       "</style>\n",
       "<table border=\"1\" class=\"dataframe\">\n",
       "  <thead>\n",
       "    <tr style=\"text-align: right;\">\n",
       "      <th></th>\n",
       "      <th>price (grands)</th>\n",
       "      <th>bedrooms</th>\n",
       "      <th>bathrooms</th>\n",
       "      <th>sqft_living</th>\n",
       "      <th>sqft_lot</th>\n",
       "      <th>floors</th>\n",
       "      <th>waterfront</th>\n",
       "      <th>view</th>\n",
       "      <th>condition</th>\n",
       "      <th>grade</th>\n",
       "      <th>sqft_above</th>\n",
       "      <th>sqft_basement</th>\n",
       "      <th>age</th>\n",
       "      <th>renovated_age</th>\n",
       "      <th>sqft_living15</th>\n",
       "      <th>sqft_lot15</th>\n",
       "    </tr>\n",
       "  </thead>\n",
       "  <tbody>\n",
       "    <tr>\n",
       "      <th>0</th>\n",
       "      <td>221.9</td>\n",
       "      <td>3</td>\n",
       "      <td>1.00</td>\n",
       "      <td>1180</td>\n",
       "      <td>5650</td>\n",
       "      <td>1.0</td>\n",
       "      <td>0</td>\n",
       "      <td>0</td>\n",
       "      <td>3</td>\n",
       "      <td>7</td>\n",
       "      <td>1180</td>\n",
       "      <td>0</td>\n",
       "      <td>62</td>\n",
       "      <td>0</td>\n",
       "      <td>1340</td>\n",
       "      <td>5650</td>\n",
       "    </tr>\n",
       "    <tr>\n",
       "      <th>1</th>\n",
       "      <td>538.0</td>\n",
       "      <td>3</td>\n",
       "      <td>2.25</td>\n",
       "      <td>2570</td>\n",
       "      <td>7242</td>\n",
       "      <td>2.0</td>\n",
       "      <td>0</td>\n",
       "      <td>0</td>\n",
       "      <td>3</td>\n",
       "      <td>7</td>\n",
       "      <td>2170</td>\n",
       "      <td>400</td>\n",
       "      <td>66</td>\n",
       "      <td>40</td>\n",
       "      <td>1690</td>\n",
       "      <td>7639</td>\n",
       "    </tr>\n",
       "    <tr>\n",
       "      <th>2</th>\n",
       "      <td>180.0</td>\n",
       "      <td>2</td>\n",
       "      <td>1.00</td>\n",
       "      <td>770</td>\n",
       "      <td>10000</td>\n",
       "      <td>1.0</td>\n",
       "      <td>0</td>\n",
       "      <td>0</td>\n",
       "      <td>3</td>\n",
       "      <td>6</td>\n",
       "      <td>770</td>\n",
       "      <td>0</td>\n",
       "      <td>84</td>\n",
       "      <td>0</td>\n",
       "      <td>2720</td>\n",
       "      <td>8062</td>\n",
       "    </tr>\n",
       "    <tr>\n",
       "      <th>3</th>\n",
       "      <td>604.0</td>\n",
       "      <td>4</td>\n",
       "      <td>3.00</td>\n",
       "      <td>1960</td>\n",
       "      <td>5000</td>\n",
       "      <td>1.0</td>\n",
       "      <td>0</td>\n",
       "      <td>0</td>\n",
       "      <td>5</td>\n",
       "      <td>7</td>\n",
       "      <td>1050</td>\n",
       "      <td>910</td>\n",
       "      <td>52</td>\n",
       "      <td>0</td>\n",
       "      <td>1360</td>\n",
       "      <td>5000</td>\n",
       "    </tr>\n",
       "    <tr>\n",
       "      <th>4</th>\n",
       "      <td>510.0</td>\n",
       "      <td>3</td>\n",
       "      <td>2.00</td>\n",
       "      <td>1680</td>\n",
       "      <td>8080</td>\n",
       "      <td>1.0</td>\n",
       "      <td>0</td>\n",
       "      <td>0</td>\n",
       "      <td>3</td>\n",
       "      <td>8</td>\n",
       "      <td>1680</td>\n",
       "      <td>0</td>\n",
       "      <td>30</td>\n",
       "      <td>0</td>\n",
       "      <td>1800</td>\n",
       "      <td>7503</td>\n",
       "    </tr>\n",
       "  </tbody>\n",
       "</table>\n",
       "</div>"
      ],
      "text/plain": [
       "   price (grands)  bedrooms  bathrooms  sqft_living  sqft_lot  floors  \\\n",
       "0           221.9         3       1.00         1180      5650     1.0   \n",
       "1           538.0         3       2.25         2570      7242     2.0   \n",
       "2           180.0         2       1.00          770     10000     1.0   \n",
       "3           604.0         4       3.00         1960      5000     1.0   \n",
       "4           510.0         3       2.00         1680      8080     1.0   \n",
       "\n",
       "   waterfront  view  condition  grade  sqft_above  sqft_basement  age  \\\n",
       "0           0     0          3      7        1180              0   62   \n",
       "1           0     0          3      7        2170            400   66   \n",
       "2           0     0          3      6         770              0   84   \n",
       "3           0     0          5      7        1050            910   52   \n",
       "4           0     0          3      8        1680              0   30   \n",
       "\n",
       "   renovated_age  sqft_living15  sqft_lot15  \n",
       "0              0           1340        5650  \n",
       "1             40           1690        7639  \n",
       "2              0           2720        8062  \n",
       "3              0           1360        5000  \n",
       "4              0           1800        7503  "
      ]
     },
     "execution_count": 26,
     "metadata": {},
     "output_type": "execute_result"
    }
   ],
   "source": [
    "# load csv file\n",
    "df = pd.read_csv('./houses1.csv')\n",
    "df.head()"
   ]
  },
  {
   "cell_type": "code",
   "execution_count": 27,
   "metadata": {},
   "outputs": [
    {
     "data": {
      "text/html": [
       "<div>\n",
       "<style scoped>\n",
       "    .dataframe tbody tr th:only-of-type {\n",
       "        vertical-align: middle;\n",
       "    }\n",
       "\n",
       "    .dataframe tbody tr th {\n",
       "        vertical-align: top;\n",
       "    }\n",
       "\n",
       "    .dataframe thead th {\n",
       "        text-align: right;\n",
       "    }\n",
       "</style>\n",
       "<table border=\"1\" class=\"dataframe\">\n",
       "  <thead>\n",
       "    <tr style=\"text-align: right;\">\n",
       "      <th></th>\n",
       "      <th>price (grands)</th>\n",
       "      <th>bedrooms</th>\n",
       "      <th>bathrooms</th>\n",
       "      <th>sqft_living</th>\n",
       "      <th>sqft_lot</th>\n",
       "      <th>floors</th>\n",
       "      <th>waterfront</th>\n",
       "      <th>view</th>\n",
       "      <th>condition</th>\n",
       "      <th>grade</th>\n",
       "      <th>sqft_above</th>\n",
       "      <th>sqft_basement</th>\n",
       "      <th>age</th>\n",
       "      <th>renovated_age</th>\n",
       "      <th>sqft_living15</th>\n",
       "      <th>sqft_lot15</th>\n",
       "    </tr>\n",
       "  </thead>\n",
       "  <tbody>\n",
       "    <tr>\n",
       "      <th>count</th>\n",
       "      <td>21613.000000</td>\n",
       "      <td>21613.000000</td>\n",
       "      <td>21613.000000</td>\n",
       "      <td>21613.000000</td>\n",
       "      <td>2.161300e+04</td>\n",
       "      <td>21613.000000</td>\n",
       "      <td>21613.000000</td>\n",
       "      <td>21613.000000</td>\n",
       "      <td>21613.000000</td>\n",
       "      <td>21613.000000</td>\n",
       "      <td>21613.000000</td>\n",
       "      <td>21613.000000</td>\n",
       "      <td>21613.000000</td>\n",
       "      <td>21613.000000</td>\n",
       "      <td>21613.000000</td>\n",
       "      <td>21613.000000</td>\n",
       "    </tr>\n",
       "    <tr>\n",
       "      <th>mean</th>\n",
       "      <td>540.088142</td>\n",
       "      <td>3.370842</td>\n",
       "      <td>2.114757</td>\n",
       "      <td>2079.899736</td>\n",
       "      <td>1.510697e+04</td>\n",
       "      <td>1.494309</td>\n",
       "      <td>0.007542</td>\n",
       "      <td>0.234303</td>\n",
       "      <td>3.409430</td>\n",
       "      <td>7.656873</td>\n",
       "      <td>1788.390691</td>\n",
       "      <td>291.509045</td>\n",
       "      <td>45.994864</td>\n",
       "      <td>2.380882</td>\n",
       "      <td>1986.552492</td>\n",
       "      <td>12768.455652</td>\n",
       "    </tr>\n",
       "    <tr>\n",
       "      <th>std</th>\n",
       "      <td>367.127196</td>\n",
       "      <td>0.930062</td>\n",
       "      <td>0.770163</td>\n",
       "      <td>918.440897</td>\n",
       "      <td>4.142051e+04</td>\n",
       "      <td>0.539989</td>\n",
       "      <td>0.086517</td>\n",
       "      <td>0.766318</td>\n",
       "      <td>0.650743</td>\n",
       "      <td>1.175459</td>\n",
       "      <td>828.090978</td>\n",
       "      <td>442.575043</td>\n",
       "      <td>29.373411</td>\n",
       "      <td>12.359528</td>\n",
       "      <td>685.391304</td>\n",
       "      <td>27304.179631</td>\n",
       "    </tr>\n",
       "    <tr>\n",
       "      <th>min</th>\n",
       "      <td>75.000000</td>\n",
       "      <td>0.000000</td>\n",
       "      <td>0.000000</td>\n",
       "      <td>290.000000</td>\n",
       "      <td>5.200000e+02</td>\n",
       "      <td>1.000000</td>\n",
       "      <td>0.000000</td>\n",
       "      <td>0.000000</td>\n",
       "      <td>1.000000</td>\n",
       "      <td>1.000000</td>\n",
       "      <td>290.000000</td>\n",
       "      <td>0.000000</td>\n",
       "      <td>2.000000</td>\n",
       "      <td>0.000000</td>\n",
       "      <td>399.000000</td>\n",
       "      <td>651.000000</td>\n",
       "    </tr>\n",
       "    <tr>\n",
       "      <th>25%</th>\n",
       "      <td>321.950000</td>\n",
       "      <td>3.000000</td>\n",
       "      <td>1.750000</td>\n",
       "      <td>1427.000000</td>\n",
       "      <td>5.040000e+03</td>\n",
       "      <td>1.000000</td>\n",
       "      <td>0.000000</td>\n",
       "      <td>0.000000</td>\n",
       "      <td>3.000000</td>\n",
       "      <td>7.000000</td>\n",
       "      <td>1190.000000</td>\n",
       "      <td>0.000000</td>\n",
       "      <td>20.000000</td>\n",
       "      <td>0.000000</td>\n",
       "      <td>1490.000000</td>\n",
       "      <td>5100.000000</td>\n",
       "    </tr>\n",
       "    <tr>\n",
       "      <th>50%</th>\n",
       "      <td>450.000000</td>\n",
       "      <td>3.000000</td>\n",
       "      <td>2.250000</td>\n",
       "      <td>1910.000000</td>\n",
       "      <td>7.618000e+03</td>\n",
       "      <td>1.500000</td>\n",
       "      <td>0.000000</td>\n",
       "      <td>0.000000</td>\n",
       "      <td>3.000000</td>\n",
       "      <td>7.000000</td>\n",
       "      <td>1560.000000</td>\n",
       "      <td>0.000000</td>\n",
       "      <td>42.000000</td>\n",
       "      <td>0.000000</td>\n",
       "      <td>1840.000000</td>\n",
       "      <td>7620.000000</td>\n",
       "    </tr>\n",
       "    <tr>\n",
       "      <th>75%</th>\n",
       "      <td>645.000000</td>\n",
       "      <td>4.000000</td>\n",
       "      <td>2.500000</td>\n",
       "      <td>2550.000000</td>\n",
       "      <td>1.068800e+04</td>\n",
       "      <td>2.000000</td>\n",
       "      <td>0.000000</td>\n",
       "      <td>0.000000</td>\n",
       "      <td>4.000000</td>\n",
       "      <td>8.000000</td>\n",
       "      <td>2210.000000</td>\n",
       "      <td>560.000000</td>\n",
       "      <td>66.000000</td>\n",
       "      <td>0.000000</td>\n",
       "      <td>2360.000000</td>\n",
       "      <td>10083.000000</td>\n",
       "    </tr>\n",
       "    <tr>\n",
       "      <th>max</th>\n",
       "      <td>7700.000000</td>\n",
       "      <td>33.000000</td>\n",
       "      <td>8.000000</td>\n",
       "      <td>13540.000000</td>\n",
       "      <td>1.651359e+06</td>\n",
       "      <td>3.500000</td>\n",
       "      <td>1.000000</td>\n",
       "      <td>4.000000</td>\n",
       "      <td>5.000000</td>\n",
       "      <td>13.000000</td>\n",
       "      <td>9410.000000</td>\n",
       "      <td>4820.000000</td>\n",
       "      <td>117.000000</td>\n",
       "      <td>114.000000</td>\n",
       "      <td>6210.000000</td>\n",
       "      <td>871200.000000</td>\n",
       "    </tr>\n",
       "  </tbody>\n",
       "</table>\n",
       "</div>"
      ],
      "text/plain": [
       "       price (grands)      bedrooms     bathrooms   sqft_living      sqft_lot  \\\n",
       "count    21613.000000  21613.000000  21613.000000  21613.000000  2.161300e+04   \n",
       "mean       540.088142      3.370842      2.114757   2079.899736  1.510697e+04   \n",
       "std        367.127196      0.930062      0.770163    918.440897  4.142051e+04   \n",
       "min         75.000000      0.000000      0.000000    290.000000  5.200000e+02   \n",
       "25%        321.950000      3.000000      1.750000   1427.000000  5.040000e+03   \n",
       "50%        450.000000      3.000000      2.250000   1910.000000  7.618000e+03   \n",
       "75%        645.000000      4.000000      2.500000   2550.000000  1.068800e+04   \n",
       "max       7700.000000     33.000000      8.000000  13540.000000  1.651359e+06   \n",
       "\n",
       "             floors    waterfront          view     condition         grade  \\\n",
       "count  21613.000000  21613.000000  21613.000000  21613.000000  21613.000000   \n",
       "mean       1.494309      0.007542      0.234303      3.409430      7.656873   \n",
       "std        0.539989      0.086517      0.766318      0.650743      1.175459   \n",
       "min        1.000000      0.000000      0.000000      1.000000      1.000000   \n",
       "25%        1.000000      0.000000      0.000000      3.000000      7.000000   \n",
       "50%        1.500000      0.000000      0.000000      3.000000      7.000000   \n",
       "75%        2.000000      0.000000      0.000000      4.000000      8.000000   \n",
       "max        3.500000      1.000000      4.000000      5.000000     13.000000   \n",
       "\n",
       "         sqft_above  sqft_basement           age  renovated_age  \\\n",
       "count  21613.000000   21613.000000  21613.000000   21613.000000   \n",
       "mean    1788.390691     291.509045     45.994864       2.380882   \n",
       "std      828.090978     442.575043     29.373411      12.359528   \n",
       "min      290.000000       0.000000      2.000000       0.000000   \n",
       "25%     1190.000000       0.000000     20.000000       0.000000   \n",
       "50%     1560.000000       0.000000     42.000000       0.000000   \n",
       "75%     2210.000000     560.000000     66.000000       0.000000   \n",
       "max     9410.000000    4820.000000    117.000000     114.000000   \n",
       "\n",
       "       sqft_living15     sqft_lot15  \n",
       "count   21613.000000   21613.000000  \n",
       "mean     1986.552492   12768.455652  \n",
       "std       685.391304   27304.179631  \n",
       "min       399.000000     651.000000  \n",
       "25%      1490.000000    5100.000000  \n",
       "50%      1840.000000    7620.000000  \n",
       "75%      2360.000000   10083.000000  \n",
       "max      6210.000000  871200.000000  "
      ]
     },
     "execution_count": 27,
     "metadata": {},
     "output_type": "execute_result"
    }
   ],
   "source": [
    "df.describe()  # various static summary of data"
   ]
  },
  {
   "cell_type": "code",
   "execution_count": 28,
   "metadata": {},
   "outputs": [],
   "source": [
    "# normalization of dataset\n",
    "df = (df - df.mean())/df.std()  \n",
    "\n",
    "# split the data into features and target\n",
    "X=df.iloc[:,1:].values\n",
    "Y=df.iloc[:,0].values\n",
    "X_1=df.iloc[:,3].values\n",
    "\n",
    "# reshape the target matrix\n",
    "Y = Y.reshape((21613,1))"
   ]
  },
  {
   "cell_type": "markdown",
   "metadata": {},
   "source": [
    "## 2 Linear Regression"
   ]
  },
  {
   "cell_type": "code",
   "execution_count": 29,
   "metadata": {},
   "outputs": [],
   "source": [
    "# spli the data into train and test set\n",
    "X1_train = df.iloc[1:-1:2,3].values\n",
    "X1_test = df.iloc[0:-1:2,3].values\n",
    "Y_train = df.iloc[1:-1:2,0].values\n",
    "Y_test = df.iloc[0:-1:2,0].values\n",
    "X_train = df.iloc[1:-1:2,1:].values\n",
    "X_test = df.iloc[0:-1:2,1:].values\n",
    "\n",
    "# reshape the target matrix\n",
    "Y_train = Y_train.reshape((10806,1))\n",
    "Y_test = Y_test.reshape((10806,1))"
   ]
  },
  {
   "cell_type": "markdown",
   "metadata": {},
   "source": [
    "### Linear Regression for feature vector X_1"
   ]
  },
  {
   "cell_type": "code",
   "execution_count": 6,
   "metadata": {},
   "outputs": [],
   "source": [
    "# linear regression function for feature X_1\n",
    "def linear_regression(X, Y, lr, repetition):\n",
    "    m = 0 # params\n",
    "    c = 0 \n",
    "    loss_X1 = np.array([]) \n",
    "    n = float(len(X))  # number of instances in train set\n",
    "    for i in range(repetition): \n",
    "         loss_X1 = np.append(loss_X1,sum((Y_pred-Y)**2))  # loss per interation \n",
    "        #derM = (-2/n) * sum(X * (Y - Y_pred))  # derivation od cost function\n",
    "        #derC = (-2/n) * sum(Y - Y_pred)  \n",
    "        m = m - (lr * ((-2/n) * sum(X * (Y - Y_pred))))  # update the parameter m\n",
    "        c = c - (lr * ((-2/n) * sum(Y - Y_pred)))  # update the parameter c\n",
    "        \n",
    "    return m,c,loss_X1 "
   ]
  },
  {
   "cell_type": "code",
   "execution_count": 7,
   "metadata": {},
   "outputs": [],
   "source": [
    "# function for prediction\n",
    "def prediction(X, Y, m, c):\n",
    "    n = float(len(X_1))\n",
    "    Y_pred = X * m + c\n",
    "    mse = (1/n) * sum((Y_pred-Y)**2)\n",
    "    return mse    "
   ]
  },
  {
   "cell_type": "code",
   "execution_count": null,
   "metadata": {},
   "outputs": [],
   "source": [
    "m,c,loss_X1 = linear_regression(X1_train,Y_train,0.0001,10000)"
   ]
  },
  {
   "cell_type": "markdown",
   "metadata": {},
   "source": [
    "##### MSE for Feature X_1 is 0.27759195195515324"
   ]
  },
  {
   "cell_type": "code",
   "execution_count": 80,
   "metadata": {},
   "outputs": [
    {
     "name": "stdout",
     "output_type": "stream",
     "text": [
      "MSE for X_1 feature 0.27759195195515324\n"
     ]
    }
   ],
   "source": [
    "mse = prediction(X1_test, Y_test, m, c)\n",
    "print(\"MSE for X_1 feature\",mse)"
   ]
  },
  {
   "cell_type": "code",
   "execution_count": 81,
   "metadata": {},
   "outputs": [
    {
     "data": {
      "image/png": "[encoded data removed]",
      "text/plain": [
       "<Figure size 432x288 with 1 Axes>"
      ]
     },
     "metadata": {
      "needs_background": "light"
     },
     "output_type": "display_data"
    }
   ],
   "source": [
    "# learning Curve for feature matrix X_1\n",
    "plt.loglog(loss)\n",
    "plt.xlabel('Iterations'); plt.ylabel('Loss')\n",
    "plt.show()"
   ]
  },
  {
   "cell_type": "markdown",
   "metadata": {},
   "source": [
    "### Linear Regression for feature matrix X"
   ]
  },
  {
   "cell_type": "code",
   "execution_count": 6,
   "metadata": {},
   "outputs": [],
   "source": [
    "# Multivariant Linear Regression for feature matrix X\n",
    "def multilinear_regression(X, Y, lr, repetition):\n",
    "    m = np.ones((1,len(X[0])))\n",
    "    c = 0\n",
    "    n = float(len(X)) \n",
    "    loss=np.array([])\n",
    "    for i in range(repetition): \n",
    "        Y_pred = X @ m.T + c  \n",
    "        loss=np.append(loss,sum((Y_pred-Y)**2))\n",
    "        D_m = -2/n * np.sum((Y - Y_pred)*X ,axis=0)  \n",
    "        D_c =-2/n * sum(Y - Y_pred)  \n",
    "        m = m - lr * D_m  \n",
    "        c = c - lr * D_c  \n",
    "    return m,c,loss"
   ]
  },
  {
   "cell_type": "code",
   "execution_count": 7,
   "metadata": {},
   "outputs": [],
   "source": [
    "# prediction function\n",
    "def prediction(X, Y, m, c):\n",
    "    n = float(len(X_1))\n",
    "    Y_pred = X @ m.T + c\n",
    "    mse = (1/n) * sum((Y_pred-Y)**2)\n",
    "    return mse    "
   ]
  },
  {
   "cell_type": "code",
   "execution_count": 8,
   "metadata": {},
   "outputs": [],
   "source": [
    "params, c, loss_X = multilinear_regression(X_train, Y_train, 0.0001, 10000)"
   ]
  },
  {
   "cell_type": "markdown",
   "metadata": {},
   "source": [
    "##### MSE for Feature X_1 is 0.25508396\n"
   ]
  },
  {
   "cell_type": "code",
   "execution_count": 9,
   "metadata": {},
   "outputs": [
    {
     "name": "stdout",
     "output_type": "stream",
     "text": [
      "MSE for X features [0.25508396]\n"
     ]
    }
   ],
   "source": [
    "mse = prediction(X_test, Y_test, params, c)\n",
    "print(\"MSE for X features\",mse)"
   ]
  },
  {
   "cell_type": "code",
   "execution_count": 10,
   "metadata": {},
   "outputs": [
    {
     "data": {
      "image/png": "[encoded data removed]",
      "text/plain": [
       "<Figure size 432x288 with 1 Axes>"
      ]
     },
     "metadata": {
      "needs_background": "light"
     },
     "output_type": "display_data"
    }
   ],
   "source": [
    "# learning Curve for feature matrix X\n",
    "plt.loglog(loss_X)\n",
    "plt.xlabel('Iterations'); plt.ylabel('Loss')\n",
    "plt.show()"
   ]
  },
  {
   "cell_type": "markdown",
   "metadata": {},
   "source": [
    "### 3 Plot the model\n",
    "\n",
    "#### Linear model for feature X_1(Price vs Area)"
   ]
  },
  {
   "cell_type": "code",
   "execution_count": 20,
   "metadata": {},
   "outputs": [
    {
     "data": {
      "image/png": "[encoded data removed]",
      "text/plain": [
       "<Figure size 432x288 with 1 Axes>"
      ]
     },
     "metadata": {
      "needs_background": "light"
     },
     "output_type": "display_data"
    }
   ],
   "source": [
    "# Making predictions\n",
    "plt.scatter(X_1, Y,s=5,color='red') \n",
    "plt.plot(X_1,Y_pred)\n",
    "plt.show()"
   ]
  },
  {
   "cell_type": "markdown",
   "metadata": {},
   "source": [
    "#### Linear Model for feature X(actual values vs predicated values)"
   ]
  },
  {
   "cell_type": "code",
   "execution_count": 18,
   "metadata": {},
   "outputs": [
    {
     "data": {
      "image/png": "[encoded data removed]",
      "text/plain": [
       "<Figure size 432x288 with 1 Axes>"
      ]
     },
     "metadata": {
      "needs_background": "light"
     },
     "output_type": "display_data"
    }
   ],
   "source": [
    "plt.scatter(Y_pred, Y,s=5,color='red')\n",
    "plt.xlabel('Predicted Values'); plt.ylabel('Actual Values')\n",
    "plt.show()"
   ]
  },
  {
   "cell_type": "markdown",
   "metadata": {},
   "source": [
    "## 4 Ridge Regression\n",
    "\n",
    "#### Ridge Linear Regression for X_1 feature vector "
   ]
  },
  {
   "cell_type": "code",
   "execution_count": 24,
   "metadata": {},
   "outputs": [],
   "source": [
    "# linear regression function for feature X_1\n",
    "def linear_regression_Ridge(X, Y, lr, repetition, alpha):\n",
    "    m = 0 # params\n",
    "    c = 0 \n",
    "    loss_X1 = np.array([]) \n",
    "    n = float(len(X))  # number of instances in train set\n",
    "    for i in range(repetition): \n",
    "        Y_pred = m*X + c  # linear regression function\n",
    "        loss_X1 = np.append(loss_X1,sum((Y_pred-Y)**2))  # loss per interation \n",
    "        derM = (-2/n) * sum(X * (Y - Y_pred))  # derivation od cost function\n",
    "        derC = (-2/n) * sum(Y - Y_pred)  \n",
    "        m = m*(1 - ((lr*alpha)/n)) - lr * derM\n",
    "        c = c - (lr * derC)  # update the parameter c\n",
    "        \n",
    "    return m,c,loss_X1 "
   ]
  },
  {
   "cell_type": "code",
   "execution_count": 25,
   "metadata": {},
   "outputs": [],
   "source": [
    "# function for prediction\n",
    "def prediction(X, Y, m, c):\n",
    "    n = float(len(X_1))\n",
    "    Y_pred = X * m + c\n",
    "    mse = (1/n) * sum((Y_pred-Y)**2)\n",
    "    return mse    "
   ]
  },
  {
   "cell_type": "code",
   "execution_count": null,
   "metadata": {},
   "outputs": [],
   "source": [
    "params_ridge,c_ridge,loss_X1 = linear_regression_Ridge(X1_train,Y_train,0.0001,10000,0.1)"
   ]
  },
  {
   "cell_type": "code",
   "execution_count": null,
   "metadata": {},
   "outputs": [],
   "source": [
    "mse = prediction(X_test, Y_test, params, c)\n",
    "print(\"MSE for X features\",mse)"
   ]
  },
  {
   "cell_type": "code",
   "execution_count": null,
   "metadata": {},
   "outputs": [],
   "source": [
    "# learning Curve for feature matrix X\n",
    "plt.loglog(loss_X)\n",
    "plt.xlabel('Iterations'); plt.ylabel('Loss')\n",
    "plt.show()"
   ]
  },
  {
   "cell_type": "markdown",
   "metadata": {},
   "source": [
    "#### Ridge Regression for X matrix"
   ]
  },
  {
   "cell_type": "code",
   "execution_count": 14,
   "metadata": {},
   "outputs": [],
   "source": [
    "# Building the model\n",
    "def multilinear_regression_Ridge(X, Y, lr, re, alpha):\n",
    "    m = np.ones((1,len(X[0])))\n",
    "    #m_identity = np.identity((len(X[0])))\n",
    "    c = 0\n",
    "    n = float(len(X)) # Number of elements in X\n",
    "    mse=np.array([])\n",
    "    # Performing Gradient Descent \n",
    "    for i in range(re): \n",
    "        Y_pred = X @ m.T + c  # The current predicted value of Y\n",
    "        mse = np.append(mse,sum((Y_pred-Y)**2))\n",
    "        D_m = -2/n * np.sum((Y - Y_pred)*X ,axis=0)  # Derivative wrt m\n",
    "        c = c - lr*(-2/n * sum(Y - Y_pred))  # Update c\n",
    "        m = m*(1 - ((lr*alpha)/n)) - lr * D_m\n",
    "    return m,c,mse"
   ]
  },
  {
   "cell_type": "code",
   "execution_count": 15,
   "metadata": {},
   "outputs": [],
   "source": [
    "# prediction function\n",
    "def prediction(X, Y, m, c):\n",
    "    n = float(len(X_1))\n",
    "    Y_pred = X @ m.T + c\n",
    "    mse = (1/n) * sum((Y_pred-Y)**2)\n",
    "    return mse    "
   ]
  },
  {
   "cell_type": "code",
   "execution_count": 22,
   "metadata": {},
   "outputs": [],
   "source": [
    "m,c,mse = multilinear_regression_Ridge(X_train,Y_train,0.0001, 10000, 0.1)"
   ]
  },
  {
   "cell_type": "markdown",
   "metadata": {},
   "source": [
    "##### MSE for Feature X_1 is 0.25508278\n"
   ]
  },
  {
   "cell_type": "code",
   "execution_count": 20,
   "metadata": {},
   "outputs": [
    {
     "name": "stdout",
     "output_type": "stream",
     "text": [
      "MSE for X features [0.25508278]\n"
     ]
    }
   ],
   "source": [
    "MSE_ridge = prediction(X_test, Y_test, m, c)\n",
    "print(\"MSE for X features\",MSE_ridge)"
   ]
  },
  {
   "cell_type": "code",
   "execution_count": 23,
   "metadata": {},
   "outputs": [
    {
     "data": {
      "image/png": "[encoded data removed]",
      "text/plain": [
       "<Figure size 432x288 with 1 Axes>"
      ]
     },
     "metadata": {
      "needs_background": "light"
     },
     "output_type": "display_data"
    }
   ],
   "source": [
    "# learning graph\n",
    "plt.loglog(mse)\n",
    "plt.xlabel('Iterations'); plt.ylabel('Loss')\n",
    "plt.show()"
   ]
  },
  {
   "cell_type": "code",
   "execution_count": 13,
   "metadata": {},
   "outputs": [
    {
     "data": {
      "image/png": "[encoded data removed]",
      "text/plain": [
       "<Figure size 432x288 with 1 Axes>"
      ]
     },
     "metadata": {
      "needs_background": "light"
     },
     "output_type": "display_data"
    }
   ],
   "source": [
    "plt.scatter(Y_pred, Y,s=5,color='red')\n",
    "plt.xlabel('Predicted Values'); plt.ylabel('Actual Values')\n",
    "plt.show()"
   ]
  },
  {
   "cell_type": "code",
   "execution_count": 14,
   "metadata": {},
   "outputs": [],
   "source": [
    "mse_reg=np.array([])\n",
    "list_penalty = [0.1, 0.01, 1, 10, 100, 5, 50, 500]\n",
    "for i in list_penalty:\n",
    "    m,c,mse = linear_regression_Ridge(X,Y,0.0001, 10000,i)\n",
    "    Y_pred = X @ m.T + c\n",
    "    mse_reg = np.append(mse,sum((Y_pred-Y)**2))"
   ]
  },
  {
   "cell_type": "code",
   "execution_count": 17,
   "metadata": {},
   "outputs": [
    {
     "data": {
      "image/png": "[encoded data removed]",
      "text/plain": [
       "<Figure size 432x288 with 1 Axes>"
      ]
     },
     "metadata": {
      "needs_background": "light"
     },
     "output_type": "display_data"
    }
   ],
   "source": [
    "# learning graph\n",
    "plt.loglog(mse_reg)\n",
    "plt.xlabel('Iterations'); plt.ylabel('Loss')\n",
    "plt.show()"
   ]
  },
  {
   "cell_type": "markdown",
   "metadata": {},
   "source": [
    "## 5 Ridge Regression with Momentum"
   ]
  },
  {
   "cell_type": "code",
   "execution_count": 18,
   "metadata": {},
   "outputs": [],
   "source": [
    "# Building the model\n",
    "def linear_regression_Ridge_momentum(X, Y, lr, re, alpha, beta):\n",
    "    m = np.ones((1,len(X[0])))\n",
    "    m_identity = np.identity((len(X[0])))\n",
    "    c = 0\n",
    "    n = float(len(X)) # Number of elements in X\n",
    "    mse=np.array([])\n",
    "    V_dc = 0\n",
    "    V_dm = np.zeros((1,len(X[0])))\n",
    "    # Performing Gradient Descent \n",
    "    for i in range(re): \n",
    "        Y_pred = X @ m.T + c  # The current predicted value of Y\n",
    "        mse = np.append(mse,sum((Y_pred-Y)**2))\n",
    "        D_m = -2/n * np.sum((Y - Y_pred)*X ,axis=0)  # Derivative wrt m\n",
    "        D_c = -2/n * sum(Y - Y_pred)\n",
    "        V_dm = (beta * V_dm) + (1- beta)*D_m\n",
    "        V_dc = (beta * V_dc) + (1- beta)*D_c\n",
    "        c = c - lr* V_dc  # Update c\n",
    "        m = m*(1 - ((lr*alpha)/n)) - lr * V_dm\n",
    "    return m,c,mse"
   ]
  },
  {
   "cell_type": "code",
   "execution_count": 23,
   "metadata": {},
   "outputs": [],
   "source": [
    "m,c,mse = linear_regression_Ridge_momentum(X,Y,0.0001, 10000, 0.1, 0.9)"
   ]
  },
  {
   "cell_type": "code",
   "execution_count": 24,
   "metadata": {},
   "outputs": [],
   "source": [
    "Y_pred = X @ m.T + c"
   ]
  },
  {
   "cell_type": "code",
   "execution_count": 25,
   "metadata": {},
   "outputs": [
    {
     "data": {
      "image/png": "[encoded data removed]",
      "text/plain": [
       "<Figure size 432x288 with 1 Axes>"
      ]
     },
     "metadata": {
      "needs_background": "light"
     },
     "output_type": "display_data"
    }
   ],
   "source": [
    "# learning graph\n",
    "plt.loglog(mse)\n",
    "plt.xlabel('Iterations'); plt.ylabel('Loss')\n",
    "plt.show()"
   ]
  },
  {
   "cell_type": "markdown",
   "metadata": {},
   "source": [
    "## 6 Optimized Polynomial Regression"
   ]
  },
  {
   "cell_type": "code",
   "execution_count": 30,
   "metadata": {},
   "outputs": [],
   "source": [
    "# Building the model\n",
    "def polynomial_regression_optimized (X, Y, lr, re, alpha, beta):\n",
    "    m = np.zeros((1,len(X[0])))\n",
    "    c = 0\n",
    "    n = float(len(X)) # Number of elements in X\n",
    "    mse=np.array([])\n",
    "    V_dc = 0\n",
    "    V_dm = np.zeros((1,len(X[0])))\n",
    "    # Performing Gradient Descent \n",
    "    for i in range(re): \n",
    "        Y_pred = X @ m.T + c  # The current predicted value of Y\n",
    "        mse = np.append(mse,sum((Y_pred-Y)**2))\n",
    "        D_m = -2/n * np.sum((Y - Y_pred)*X ,axis=0)  # Derivative wrt m\n",
    "        D_c = -2/n * sum(Y - Y_pred)\n",
    "        V_dm = (beta * V_dm) + (1- beta)*D_m\n",
    "        V_dc = (beta * V_dc) + (1- beta)*D_c\n",
    "        c = c - lr* V_dc  # Update c\n",
    "        m = m*(1 - ((lr*alpha)/n)) - lr * V_dm\n",
    "    return m,c,mse"
   ]
  },
  {
   "cell_type": "code",
   "execution_count": 31,
   "metadata": {},
   "outputs": [
    {
     "data": {
      "text/plain": [
       "8"
      ]
     },
     "execution_count": 31,
     "metadata": {},
     "output_type": "execute_result"
    }
   ],
   "source": [
    "m"
   ]
  },
  {
   "cell_type": "code",
   "execution_count": 32,
   "metadata": {},
   "outputs": [
    {
     "data": {
      "text/plain": [
       "(21613, 1)"
      ]
     },
     "execution_count": 32,
     "metadata": {},
     "output_type": "execute_result"
    }
   ],
   "source": [
    "X_1a = X_1.reshape((21613,1))\n",
    "X_1a.shape"
   ]
  },
  {
   "cell_type": "code",
   "execution_count": 33,
   "metadata": {},
   "outputs": [
    {
     "data": {
      "text/plain": [
       "(21613, 2)"
      ]
     },
     "execution_count": 33,
     "metadata": {},
     "output_type": "execute_result"
    }
   ],
   "source": [
    "X_sq = np.array(X_1a**2)\n",
    "X_sq = X_sq.reshape((21613,1))\n",
    "X_mod = np.concatenate((X_1a,X_sq ), axis=1)\n",
    "X_mod.shape"
   ]
  },
  {
   "cell_type": "code",
   "execution_count": 43,
   "metadata": {},
   "outputs": [],
   "source": [
    "m,c,mse = polynomial_regression_optimized(X_mod,Y,0.0001, 10000, 0.1,0.9)"
   ]
  },
  {
   "cell_type": "code",
   "execution_count": 54,
   "metadata": {},
   "outputs": [
    {
     "data": {
      "text/plain": [
       "(21613,)"
      ]
     },
     "execution_count": 54,
     "metadata": {},
     "output_type": "execute_result"
    }
   ],
   "source": [
    "Y_pred = Y_pred.ravel()\n",
    "Y_pred.shape"
   ]
  },
  {
   "cell_type": "code",
   "execution_count": 69,
   "metadata": {},
   "outputs": [
    {
     "data": {
      "text/plain": [
       "[<matplotlib.lines.Line2D at 0x213fe29fa90>]"
      ]
     },
     "execution_count": 69,
     "metadata": {},
     "output_type": "execute_result"
    },
    {
     "data": {
      "image/png": "[encoded data removed]",
      "text/plain": [
       "<Figure size 432x288 with 1 Axes>"
      ]
     },
     "metadata": {
      "needs_background": "light"
     },
     "output_type": "display_data"
    }
   ],
   "source": [
    "plt.plot(X_1, Y_pred)"
   ]
  },
  {
   "cell_type": "code",
   "execution_count": null,
   "metadata": {},
   "outputs": [],
   "source": [
    "Reference:\n",
    "https://www.geeksforgeeks.org/find-average-list-python/\n",
    "https://machinelearningmastery.com/k-fold-cross-validation/\n",
    "irisdata program given on the brightspace\n",
    "mlp program given on the brightspace\n",
    "https://www.youtube.com/watch?v=k8fTYJPd3_I\n",
    "    https://www.geeksforgeeks.org/python-pandas-dataframe/#targetText=Pandas%20DataFrame%20is%20two%2Ddimensional,fashion%20in%20rows%20and%20columns."
   ]
  }
 ],
 "metadata": {
  "kernelspec": {
   "display_name": "Python 3",
   "language": "python",
   "name": "python3"
  },
  "language_info": {
   "codemirror_mode": {
    "name": "ipython",
    "version": 3
   },
   "file_extension": ".py",
   "mimetype": "text/x-python",
   "name": "python",
   "nbconvert_exporter": "python",
   "pygments_lexer": "ipython3",
   "version": "3.8.3"
  }
 },
 "nbformat": 4,
 "nbformat_minor": 2
}
